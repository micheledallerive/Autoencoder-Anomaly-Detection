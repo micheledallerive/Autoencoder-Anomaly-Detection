{
 "cells": [
  {
   "cell_type": "code",
   "execution_count": 1,
   "id": "999bcb08",
   "metadata": {},
   "outputs": [],
   "source": [
    "import os\n",
    "os.environ['TF_CPP_MIN_LOG_LEVEL'] = '2'\n",
    "import tensorflow as tf\n",
    "from tensorflow import keras\n",
    "from keras import layers\n",
    "%matplotlib inline\n",
    "import matplotlib.pyplot as plt\n",
    "import numpy as np\n",
    "import pandas as pd\n",
    "from libs.setutils import load_sets\n",
    "from libs.analizelib import find_threshold,get_predictions,analize_predictions"
   ]
  },
  {
   "cell_type": "code",
   "execution_count": 2,
   "id": "2e9a3a9d",
   "metadata": {},
   "outputs": [],
   "source": [
    "anomaly = [8] # the model was trained to recognize 8s as anomalies\n",
    "((x_train, x_test),\\\n",
    "    (anomaly_set_train, nominal_set_train, train_labels),\\\n",
    "    (anomaly_set_test, nominal_set_test, test_labels)) = load_sets(anomaly)"
   ]
  },
  {
   "cell_type": "code",
   "execution_count": 3,
   "id": "d344a7eb",
   "metadata": {},
   "outputs": [],
   "source": [
    "input_img = keras.Input(shape=(784,))\n",
    "encoded = layers.Dense(512, activation='relu')(input_img)\n",
    "encoded = layers.Dense(384, activation='relu')(encoded)\n",
    "encoded = layers.Dense(256, activation='relu')(encoded)\n",
    "encoded = layers.Dense(192, activation='relu')(encoded)\n",
    "encoded = layers.Dense(64, activation='relu')(encoded)\n",
    "encoded = layers.Dense(16, activation='relu')(encoded)\n",
    "\n",
    "decoded = layers.Dense(64, activation='relu')(encoded)\n",
    "decoded = layers.Dense(192, activation='relu')(decoded)\n",
    "decoded = layers.Dense(256, activation='relu')(decoded)\n",
    "decoded = layers.Dense(384, activation='relu')(decoded)\n",
    "decoded = layers.Dense(512, activation='relu')(decoded)\n",
    "decoded = layers.Dense(784, activation='sigmoid')(decoded)\n",
    "autoencoder = keras.Model(input_img, decoded)"
   ]
  },
  {
   "cell_type": "code",
   "execution_count": 4,
   "id": "67e8024b",
   "metadata": {},
   "outputs": [
    {
     "name": "stdout",
     "output_type": "stream",
     "text": [
      "Epoch 1/50\n",
      "212/212 [==============================] - 4s 19ms/step - loss: 0.0689 - val_loss: 0.0531\n",
      "Epoch 2/50\n",
      "212/212 [==============================] - 4s 17ms/step - loss: 0.0412 - val_loss: 0.0329\n",
      "Epoch 3/50\n",
      "212/212 [==============================] - 4s 18ms/step - loss: 0.0299 - val_loss: 0.0268\n",
      "Epoch 4/50\n",
      "212/212 [==============================] - 4s 20ms/step - loss: 0.0256 - val_loss: 0.0243\n",
      "Epoch 5/50\n",
      "212/212 [==============================] - 4s 19ms/step - loss: 0.0235 - val_loss: 0.0227\n",
      "Epoch 6/50\n",
      "212/212 [==============================] - 4s 18ms/step - loss: 0.0222 - val_loss: 0.0220\n",
      "Epoch 7/50\n",
      "212/212 [==============================] - 4s 20ms/step - loss: 0.0211 - val_loss: 0.0205\n",
      "Epoch 8/50\n",
      "212/212 [==============================] - 4s 18ms/step - loss: 0.0197 - val_loss: 0.0194\n",
      "Epoch 9/50\n",
      "212/212 [==============================] - 4s 17ms/step - loss: 0.0186 - val_loss: 0.0183\n",
      "Epoch 10/50\n",
      "212/212 [==============================] - 4s 17ms/step - loss: 0.0175 - val_loss: 0.0175\n",
      "Epoch 11/50\n",
      "212/212 [==============================] - 3s 16ms/step - loss: 0.0166 - val_loss: 0.0165\n",
      "Epoch 12/50\n",
      "212/212 [==============================] - 3s 15ms/step - loss: 0.0160 - val_loss: 0.0159\n",
      "Epoch 13/50\n",
      "212/212 [==============================] - 3s 15ms/step - loss: 0.0155 - val_loss: 0.0157\n",
      "Epoch 14/50\n",
      "212/212 [==============================] - 3s 15ms/step - loss: 0.0150 - val_loss: 0.0154\n",
      "Epoch 15/50\n",
      "212/212 [==============================] - 3s 16ms/step - loss: 0.0146 - val_loss: 0.0149\n",
      "Epoch 16/50\n",
      "212/212 [==============================] - 3s 16ms/step - loss: 0.0142 - val_loss: 0.0146\n",
      "Epoch 17/50\n",
      "212/212 [==============================] - 3s 16ms/step - loss: 0.0138 - val_loss: 0.0143\n",
      "Epoch 18/50\n",
      "212/212 [==============================] - 3s 16ms/step - loss: 0.0134 - val_loss: 0.0138\n",
      "Epoch 19/50\n",
      "212/212 [==============================] - 3s 16ms/step - loss: 0.0131 - val_loss: 0.0136\n",
      "Epoch 20/50\n",
      "212/212 [==============================] - 3s 16ms/step - loss: 0.0128 - val_loss: 0.0136\n",
      "Epoch 21/50\n",
      "212/212 [==============================] - 3s 16ms/step - loss: 0.0126 - val_loss: 0.0133\n",
      "Epoch 22/50\n",
      "212/212 [==============================] - 3s 16ms/step - loss: 0.0123 - val_loss: 0.0133\n",
      "Epoch 23/50\n",
      "212/212 [==============================] - 3s 16ms/step - loss: 0.0122 - val_loss: 0.0130\n",
      "Epoch 24/50\n",
      "212/212 [==============================] - 3s 16ms/step - loss: 0.0120 - val_loss: 0.0132\n",
      "Epoch 25/50\n",
      "212/212 [==============================] - 3s 16ms/step - loss: 0.0118 - val_loss: 0.0128\n",
      "Epoch 26/50\n",
      "212/212 [==============================] - 3s 15ms/step - loss: 0.0117 - val_loss: 0.0129\n",
      "Epoch 27/50\n",
      "212/212 [==============================] - 3s 16ms/step - loss: 0.0115 - val_loss: 0.0126\n",
      "Epoch 28/50\n",
      "212/212 [==============================] - 3s 16ms/step - loss: 0.0114 - val_loss: 0.0125\n",
      "Epoch 29/50\n",
      "212/212 [==============================] - 3s 16ms/step - loss: 0.0112 - val_loss: 0.0125\n",
      "Epoch 30/50\n",
      "212/212 [==============================] - 3s 16ms/step - loss: 0.0111 - val_loss: 0.0122\n",
      "Epoch 31/50\n",
      "212/212 [==============================] - 3s 16ms/step - loss: 0.0110 - val_loss: 0.0123\n",
      "Epoch 32/50\n",
      "212/212 [==============================] - 3s 16ms/step - loss: 0.0109 - val_loss: 0.0121\n",
      "Epoch 33/50\n",
      "212/212 [==============================] - 3s 16ms/step - loss: 0.0108 - val_loss: 0.0120\n",
      "Epoch 34/50\n",
      "212/212 [==============================] - 3s 16ms/step - loss: 0.0106 - val_loss: 0.0120\n",
      "Epoch 35/50\n",
      "212/212 [==============================] - 3s 15ms/step - loss: 0.0105 - val_loss: 0.0119\n",
      "Epoch 36/50\n",
      "212/212 [==============================] - 3s 16ms/step - loss: 0.0104 - val_loss: 0.0117\n",
      "Epoch 37/50\n",
      "212/212 [==============================] - 3s 16ms/step - loss: 0.0103 - val_loss: 0.0118\n",
      "Epoch 38/50\n",
      "212/212 [==============================] - 3s 16ms/step - loss: 0.0102 - val_loss: 0.0116\n",
      "Epoch 39/50\n",
      "212/212 [==============================] - 3s 16ms/step - loss: 0.0101 - val_loss: 0.0116\n",
      "Epoch 40/50\n",
      "212/212 [==============================] - 3s 16ms/step - loss: 0.0100 - val_loss: 0.0117\n",
      "Epoch 41/50\n",
      "212/212 [==============================] - 3s 16ms/step - loss: 0.0099 - val_loss: 0.0117\n",
      "Epoch 42/50\n",
      "212/212 [==============================] - 3s 15ms/step - loss: 0.0098 - val_loss: 0.0116\n",
      "Epoch 43/50\n",
      "212/212 [==============================] - 3s 16ms/step - loss: 0.0097 - val_loss: 0.0117\n",
      "Epoch 44/50\n",
      "212/212 [==============================] - 3s 16ms/step - loss: 0.0096 - val_loss: 0.0114\n",
      "Epoch 45/50\n",
      "212/212 [==============================] - 3s 15ms/step - loss: 0.0095 - val_loss: 0.0115\n",
      "Epoch 46/50\n",
      "212/212 [==============================] - 3s 16ms/step - loss: 0.0095 - val_loss: 0.0114\n",
      "Epoch 47/50\n",
      "212/212 [==============================] - 3s 16ms/step - loss: 0.0094 - val_loss: 0.0117\n",
      "Epoch 48/50\n",
      "212/212 [==============================] - 3s 16ms/step - loss: 0.0094 - val_loss: 0.0112\n",
      "Epoch 49/50\n",
      "212/212 [==============================] - 3s 16ms/step - loss: 0.0093 - val_loss: 0.0112\n",
      "Epoch 50/50\n",
      "212/212 [==============================] - 3s 16ms/step - loss: 0.0092 - val_loss: 0.0111\n"
     ]
    }
   ],
   "source": [
    "autoencoder.compile(optimizer='adam', loss='mean_squared_error')\n",
    "loss_function = keras.losses.mean_squared_error\n",
    "history = autoencoder.fit(nominal_set_train, nominal_set_train,\n",
    "                epochs=50,\n",
    "                batch_size=256,\n",
    "                shuffle=True,\n",
    "                validation_data=(nominal_set_test, nominal_set_test))"
   ]
  },
  {
   "cell_type": "code",
   "execution_count": 5,
   "id": "2bb425d6",
   "metadata": {},
   "outputs": [
    {
     "data": {
      "image/png": "[encoded data removed]",
      "text/plain": [
       "<Figure size 432x288 with 1 Axes>"
      ]
     },
     "metadata": {
      "needs_background": "light"
     },
     "output_type": "display_data"
    }
   ],
   "source": [
    "plt.plot(history.history['loss'])\n",
    "plt.plot(history.history['val_loss'])\n",
    "plt.title('Loss during training')\n",
    "plt.ylabel('Loss')\n",
    "plt.xlabel('Epoch')\n",
    "plt.legend(['Train', 'Test'], loc='upper right')\n",
    "plt.show()"
   ]
  },
  {
   "cell_type": "code",
   "execution_count": 6,
   "id": "223972cc",
   "metadata": {},
   "outputs": [
    {
     "name": "stdout",
     "output_type": "stream",
     "text": [
      "INFO:tensorflow:Assets written to: ./models/03_11_22.19:56:15/model/assets\n",
      "Model saved in ./models/03_11_22.19:56:15/model\n"
     ]
    }
   ],
   "source": [
    "from datetime import datetime\n",
    "\n",
    "now = datetime.now()\n",
    "now = now.strftime(\"%D.%H:%M:%S\").replace(\"/\",\"_\")\n",
    "autoencoder.save(f\"./models/{now}/model\")\n",
    "print(f\"Model saved in ./models/{now}/model\")"
   ]
  },
  {
   "cell_type": "code",
   "execution_count": 7,
   "id": "97314220",
   "metadata": {},
   "outputs": [],
   "source": [
    "def find_best_threshold(test_predictions, testing_set, testing_labels):\n",
    "    maxi, maxratio, maxa, maxn = 0,0,0,0\n",
    "    for i in range(0, 50, 1):\n",
    "        start=92\n",
    "        increment = i/10\n",
    "        threshold = find_threshold(autoencoder.predict(nominal_set_test), nominal_set_test, loss_function, start+increment)\n",
    "        preds = get_predictions(test_predictions, testing_set, threshold, loss_function)\n",
    "\n",
    "        detected_anomalies,\\\n",
    "        undetected_anomalies,\\\n",
    "        incorrecly_detected_anomalies,\\\n",
    "        correctly_detected_nominal,\\\n",
    "        num_anomalies,\\\n",
    "        num_nominals = analize_predictions(preds, testing_labels)\n",
    "\n",
    "        ratio = round(detected_anomalies/num_anomalies*100,2)+round(correctly_detected_nominal/num_nominals*100,2)\n",
    "        ratio/=2\n",
    "        a = round(detected_anomalies/num_anomalies*100,2)\n",
    "        n = round(correctly_detected_nominal/num_nominals*100,2)\n",
    "        if ratio>maxratio and abs(a-n)<2: # i want to maximize the accuracy but at the same time have two similar accuracies\n",
    "            maxi = start+increment\n",
    "            maxratio = ratio\n",
    "    with open(f\"./models/{now}/model/threshold.txt\", \"w\") as thresh_file:\n",
    "        thresh_file.write(str(find_threshold(autoencoder.predict(nominal_set_test),nominal_set_test,loss_function,maxi)))\n",
    "        print(f\"Threshold file created, best percentile: {maxi}\")"
   ]
  },
  {
   "cell_type": "code",
   "execution_count": 8,
   "id": "4d2fb109",
   "metadata": {},
   "outputs": [
    {
     "name": "stdout",
     "output_type": "stream",
     "text": [
      "Threshold file created, best percentile: 94.6\n"
     ]
    }
   ],
   "source": [
    "find_best_threshold(autoencoder.predict(x_test), x_test, test_labels)"
   ]
  }
 ],
 "metadata": {
  "interpreter": {
   "hash": "97cc609b13305c559618ec78a438abc56230b9381f827f22d070313b9a1f3777"
  },
  "kernelspec": {
   "display_name": "Python 3 (ipykernel)",
   "language": "python",
   "name": "python3"
  },
  "language_info": {
   "codemirror_mode": {
    "name": "ipython",
    "version": 3
   },
   "file_extension": ".py",
   "mimetype": "text/x-python",
   "name": "python",
   "nbconvert_exporter": "python",
   "pygments_lexer": "ipython3",
   "version": "3.8.10"
  }
 },
 "nbformat": 4,
 "nbformat_minor": 5
}
